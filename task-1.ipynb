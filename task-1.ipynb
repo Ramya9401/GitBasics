{
 "cells": [
  {
   "cell_type": "markdown",
   "metadata": {},
   "source": [
    "# Task-1\n",
    "\n",
    "### to print characters in to their respective groups "
   ]
  },
  {
   "cell_type": "code",
   "execution_count": 2,
   "metadata": {},
   "outputs": [
    {
     "name": "stdout",
     "output_type": "stream",
     "text": [
      "alphabets in 57835214knbw,jbfhj!@#$%^&* is:['k', 'n', 'b', 'w', 'j', 'b', 'f', 'h', 'j'] \n",
      "numbers in 57835214knbw,jbfhj!@#$%^&* is:['5', '7', '8', '3', '5', '2', '1', '4'] \n",
      "special char in 57835214knbw,jbfhj!@#$%^&* is:[',', '!', '@', '#', '$', '%', '^', '&', '*'] \n"
     ]
    }
   ],
   "source": [
    "k=\"57835214knbw,jbfhj!@#$%^&*\"\n",
    "l=[]\n",
    "m=[]\n",
    "n=[]\n",
    "for i in k:\n",
    "    if i.isalpha():\n",
    "        l.append(i)\n",
    "    elif i.isnumeric():\n",
    "        m.append(i)\n",
    "    else:\n",
    "        n.append(i)\n",
    "print(\"alphabets in {} is:{} \".format(k,l))\n",
    "print(\"numbers in {} is:{} \".format(k,m))\n",
    "print(\"special char in {} is:{} \".format(k,n))"
   ]
  },
  {
   "cell_type": "code",
   "execution_count": null,
   "metadata": {},
   "outputs": [],
   "source": []
  },
  {
   "cell_type": "code",
   "execution_count": null,
   "metadata": {},
   "outputs": [],
   "source": []
  }
 ],
 "metadata": {
  "kernelspec": {
   "display_name": "Python 3",
   "language": "python",
   "name": "python3"
  },
  "language_info": {
   "codemirror_mode": {
    "name": "ipython",
    "version": 3
   },
   "file_extension": ".py",
   "mimetype": "text/x-python",
   "name": "python",
   "nbconvert_exporter": "python",
   "pygments_lexer": "ipython3",
   "version": "3.7.4"
  }
 },
 "nbformat": 4,
 "nbformat_minor": 2
}
