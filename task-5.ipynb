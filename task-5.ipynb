{
 "cells": [
  {
   "cell_type": "markdown",
   "metadata": {},
   "source": [
    "# Task-5"
   ]
  },
  {
   "cell_type": "code",
   "execution_count": 1,
   "metadata": {},
   "outputs": [],
   "source": [
    "from APSSDC.task5 import calsi as r"
   ]
  },
  {
   "cell_type": "code",
   "execution_count": 4,
   "metadata": {},
   "outputs": [
    {
     "name": "stdout",
     "output_type": "stream",
     "text": [
      "2\n",
      "3\n",
      "Given numbers are 2 and 3 and their addition is:5\n",
      "Given numbers are 2 and 3 and their subraction is:-1\n",
      "Given numbers are 2 and 3 and their multiplication is:6\n",
      "Given numbers are 2 and 3 and their division is:0.6666666666666666\n",
      "Given numbers are 2 and 3 and their power is:8\n"
     ]
    }
   ],
   "source": [
    "n=int(input())\n",
    "m=int(input())\n",
    "print(\"Given numbers are {} and {} and their addition is:{}\".format(n,m,r.add(n,m)))\n",
    "print(\"Given numbers are {} and {} and their subraction is:{}\".format(n,m,r.sub(n,m)))\n",
    "print(\"Given numbers are {} and {} and their multiplication is:{}\".format(n,m,r.mul(n,m)))\n",
    "print(\"Given numbers are {} and {} and their division is:{}\".format(n,m,r.div(n,m)))\n",
    "print(\"Given numbers are {} and {} and their power is:{}\".format(n,m,r.POW(n,m)))"
   ]
  },
  {
   "cell_type": "code",
   "execution_count": null,
   "metadata": {},
   "outputs": [],
   "source": []
  }
 ],
 "metadata": {
  "kernelspec": {
   "display_name": "Python 3",
   "language": "python",
   "name": "python3"
  },
  "language_info": {
   "codemirror_mode": {
    "name": "ipython",
    "version": 3
   },
   "file_extension": ".py",
   "mimetype": "text/x-python",
   "name": "python",
   "nbconvert_exporter": "python",
   "pygments_lexer": "ipython3",
   "version": "3.7.4"
  }
 },
 "nbformat": 4,
 "nbformat_minor": 2
}
