{
 "cells": [
  {
   "cell_type": "markdown",
   "metadata": {},
   "source": [
    "# Task-3"
   ]
  },
  {
   "cell_type": "code",
   "execution_count": 22,
   "metadata": {},
   "outputs": [
    {
     "name": "stdout",
     "output_type": "stream",
     "text": [
      "28376283732985\n",
      "given number is 28376283732985\n",
      "7\n",
      "even nubers are: ['2', '8', '6', '2', '8', '2', '8']\n",
      "odd numbers are: ['3', '7', '3', '7', '3', '9', '5']\n",
      "even numbers in left side are: ['2', '8', '6', '2', '8']\n",
      "odd numbers in left side are: ['3', '7']\n",
      "even numbers in right side are: ['2', '8']\n",
      "odd numbers in right side are: ['3', '7', '3', '9', '5']\n",
      "even numbers sum in left side is: 26\n",
      "even numbers sum in right side is: 10\n",
      "odd numbers  sum in left side are: 10\n",
      "odd numbers sum in right side are: 27\n"
     ]
    }
   ],
   "source": [
    "def task(q):\n",
    "    print(\"given number is {}\".format(q))\n",
    "    a=[]\n",
    "    b=[]\n",
    "    for i in q:\n",
    "        if int(i)%2==0:\n",
    "            a.append(i)\n",
    "            \n",
    "        else:\n",
    "            b.append(i)\n",
    "    c=len(q)//2\n",
    "    print(c)\n",
    "    d=[]\n",
    "    e=[]\n",
    "    sum1=0\n",
    "    sum3=0\n",
    "    for i in q[0:c]:\n",
    "        if int(i)%2==0:\n",
    "            d.append(i)\n",
    "            sum1=sum1+int(i)\n",
    "        else:\n",
    "            e.append(i)\n",
    "            sum3=sum3+int(i)\n",
    "    f=[]\n",
    "    g=[]\n",
    "    sum2=0\n",
    "    sum4=0\n",
    "    for i in q[c:len(q)]:\n",
    "        if int(i)%2==0:\n",
    "            f.append(i)\n",
    "            sum2=sum2+int(i)\n",
    "        else:\n",
    "            g.append(i)\n",
    "            sum4=sum4+int(i)\n",
    "    print(\"even nubers are:\",a)\n",
    "    print(\"odd numbers are:\",b)\n",
    "    print(\"even numbers in left side are:\",d)\n",
    "    print(\"odd numbers in left side are:\",e)\n",
    "    print(\"even numbers in right side are:\",f)\n",
    "    print(\"odd numbers in right side are:\",g)\n",
    "    print(\"even numbers sum in left side is:\",sum1)\n",
    "    print(\"even numbers sum in right side is:\",sum2)\n",
    "    print(\"odd numbers  sum in left side are:\",sum3)\n",
    "    print(\"odd numbers sum in right side are:\",sum4)\n",
    "    return\n",
    "a=input()\n",
    "task(a)"
   ]
  },
  {
   "cell_type": "code",
   "execution_count": null,
   "metadata": {},
   "outputs": [],
   "source": []
  }
 ],
 "metadata": {
  "kernelspec": {
   "display_name": "Python 3",
   "language": "python",
   "name": "python3"
  },
  "language_info": {
   "codemirror_mode": {
    "name": "ipython",
    "version": 3
   },
   "file_extension": ".py",
   "mimetype": "text/x-python",
   "name": "python",
   "nbconvert_exporter": "python",
   "pygments_lexer": "ipython3",
   "version": "3.7.4"
  }
 },
 "nbformat": 4,
 "nbformat_minor": 2
}
