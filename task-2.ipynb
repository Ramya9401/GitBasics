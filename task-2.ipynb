{
 "cells": [
  {
   "cell_type": "markdown",
   "metadata": {},
   "source": [
    "# Task-2"
   ]
  },
  {
   "cell_type": "code",
   "execution_count": 45,
   "metadata": {},
   "outputs": [
    {
     "name": "stdout",
     "output_type": "stream",
     "text": [
      "enter your option:3\n",
      "enter the name:ramya\n",
      "update contact number:9160763560\n",
      "{'name': ['ramya', 'raane', 'pooji', 'bannu'], 'contact no.': ['9160763560', 6303772282, 6301656167, 9381460250]}\n"
     ]
    }
   ],
   "source": [
    "i=int(input(\"enter your option:\"))\n",
    "a={'name':[\"ramya\",\"raane\",\"pooji\",\"bannu\"],'contact no.':[8328529629,6303772282,6301656167,9381460250]}\n",
    "if i==1:\n",
    "    l=input(\"enter your name:\")\n",
    "    if l in a['name']:\n",
    "        print(\"{} already exists\".format(l))\n",
    "    else:\n",
    "        print(\"name doesnot exist\")\n",
    "        contact=int(input(\"enter your number:\"))\n",
    "        a['name'].append(l)\n",
    "        a['contact no.'].append(contact)\n",
    "    print(a)\n",
    "elif i==2:\n",
    "    for m in range(len(a['name'])):\n",
    "        print(\"name\",\" \",\"contact\")\n",
    "        print(a[\"name\"][m],a['contact no.'][m])\n",
    "elif i==3:\n",
    "    l=input(\"enter the name:\")\n",
    "    for i in range(len(a['name'])):\n",
    "        if l==a['name'][i]:\n",
    "            a['contact no.'][i]=input(\"update contact number:\")\n",
    "            break\n",
    "        else:\n",
    "            print(\"{} does not exisit\".format(l))\n",
    "            break\n",
    "    print(a)\n",
    "elif i==4:\n",
    "    l=input(\"enter the name:\")\n",
    "    for i in range(len(a['name'])):\n",
    "        if l==a[\"name\"][i]:\n",
    "            del a[\"name\"][i]\n",
    "            del a[\"contact no.\"][i]\n",
    "            print(\"{} details are deleted\".format(l))\n",
    "            break\n",
    "        else:\n",
    "            print(\"name doesnot exsist\")\n",
    "    print(a)\n",
    "    \n",
    "    "
   ]
  },
  {
   "cell_type": "code",
   "execution_count": 42,
   "metadata": {},
   "outputs": [
    {
     "data": {
      "text/plain": [
       "{'name': ['raane', 'pooji', 'bannu'],\n",
       " 'contact no.': [6303772282, 6301656167, 9381460250]}"
      ]
     },
     "execution_count": 42,
     "metadata": {},
     "output_type": "execute_result"
    }
   ],
   "source": [
    "a\n"
   ]
  },
  {
   "cell_type": "code",
   "execution_count": null,
   "metadata": {},
   "outputs": [],
   "source": []
  }
 ],
 "metadata": {
  "kernelspec": {
   "display_name": "Python 3",
   "language": "python",
   "name": "python3"
  }
 },
 "nbformat": 4,
 "nbformat_minor": 2
}
